{
 "cells": [
  {
   "cell_type": "code",
   "execution_count": 2,
   "metadata": {},
   "outputs": [],
   "source": [
    "import tensorflow as tf\n",
    "import numpy as np\n",
    "import matplotlib.pyplot as plt\n",
    "import pandas as pd\n"
   ]
  },
  {
   "cell_type": "code",
   "execution_count": 64,
   "metadata": {},
   "outputs": [
    {
     "name": "stdout",
     "output_type": "stream",
     "text": [
      "   Unnamed: 0  UNIT     DATEn     TIMEn  ENTRIESn   EXITSn  ENTRIESn_hourly  \\\n",
      "0           0  R003  05-01-11  00:00:00   4388333  2911002              0.0   \n",
      "1           1  R003  05-01-11  04:00:00   4388333  2911002              0.0   \n",
      "2           2  R003  05-01-11  12:00:00   4388333  2911002              0.0   \n",
      "3           3  R003  05-01-11  16:00:00   4388333  2911002              0.0   \n",
      "4           4  R003  05-01-11  20:00:00   4388333  2911002              0.0   \n",
      "\n",
      "   EXITSn_hourly             datetime  hour     ...       pressurei  rain  \\\n",
      "0            0.0  2011-05-01 00:00:00     0     ...           30.22     0   \n",
      "1            0.0  2011-05-01 04:00:00     4     ...           30.25     0   \n",
      "2            0.0  2011-05-01 12:00:00    12     ...           30.28     0   \n",
      "3            0.0  2011-05-01 16:00:00    16     ...           30.26     0   \n",
      "4            0.0  2011-05-01 20:00:00    20     ...           30.28     0   \n",
      "\n",
      "  tempi  wspdi  meanprecipi meanpressurei  meantempi  meanwspdi  weather_lat  \\\n",
      "0  55.9    3.5          0.0        30.258      55.98       7.86    40.700348   \n",
      "1  52.0    3.5          0.0        30.258      55.98       7.86    40.700348   \n",
      "2  62.1    6.9          0.0        30.258      55.98       7.86    40.700348   \n",
      "3  57.9   15.0          0.0        30.258      55.98       7.86    40.700348   \n",
      "4  52.0   10.4          0.0        30.258      55.98       7.86    40.700348   \n",
      "\n",
      "   weather_lon  \n",
      "0   -73.887177  \n",
      "1   -73.887177  \n",
      "2   -73.887177  \n",
      "3   -73.887177  \n",
      "4   -73.887177  \n",
      "\n",
      "[5 rows x 28 columns]\n"
     ]
    }
   ],
   "source": [
    "df=pd.read_csv('myfile.csv')\n",
    "print(df.head())\n",
    "a=np.array(df[['meantempi']])\n",
    "b=np.array(df[['wspdi']])\n",
    "\n",
    "\n",
    "x=tf.placeholder(tf.float32,[None,None])\n",
    "y=tf.placeholder(tf.float32,[None,None])\n",
    "\n",
    "w=tf.Variable(0, dtype=tf.float32)\n",
    "\n"
   ]
  },
  {
   "cell_type": "code",
   "execution_count": 65,
   "metadata": {},
   "outputs": [
    {
     "name": "stdout",
     "output_type": "stream",
     "text": [
      "[[  3.5   3.5   6.9  15.   10.4]]\n"
     ]
    }
   ],
   "source": [
    "c=np.array(b.transpose())\n",
    "print(c)"
   ]
  },
  {
   "cell_type": "code",
   "execution_count": 66,
   "metadata": {},
   "outputs": [
    {
     "data": {
      "text/plain": [
       "array([[ 2200.01391602]], dtype=float32)"
      ]
     },
     "execution_count": 66,
     "metadata": {},
     "output_type": "execute_result"
    }
   ],
   "source": [
    "#use variables in equation\n",
    "#use placeholders in feed dict\n",
    "\n",
    "\n",
    "init = tf.global_variables_initializer()\n",
    "sess=tf.Session()\n",
    "sess.run(init)\n",
    "\n",
    "# sess.run(x,feed_dict={x:a})\n",
    "# sess.run(y,feed_dict={y:c})\n",
    "\n",
    "w=tf.matmul(x,y)\n",
    "sess.run(w,feed_dict={x:c,y:a})\n",
    "\n",
    "\n",
    "#print(sess.run(x))"
   ]
  },
  {
   "cell_type": "code",
   "execution_count": null,
   "metadata": {},
   "outputs": [],
   "source": []
  }
 ],
 "metadata": {
  "kernelspec": {
   "display_name": "Python 3",
   "language": "python",
   "name": "python3"
  },
  "language_info": {
   "codemirror_mode": {
    "name": "ipython",
    "version": 3
   },
   "file_extension": ".py",
   "mimetype": "text/x-python",
   "name": "python",
   "nbconvert_exporter": "python",
   "pygments_lexer": "ipython3",
   "version": "3.5.2"
  }
 },
 "nbformat": 4,
 "nbformat_minor": 2
}
